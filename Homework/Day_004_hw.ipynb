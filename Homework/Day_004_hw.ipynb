{
 "cells": [
  {
   "cell_type": "markdown",
   "metadata": {},
   "source": [
    "# Julia 數值系統介紹\n",
    "\n",
    "## Day 004 作業\n",
    "\n",
    "今天的內容提到整數及浮點數型別之最小值和最大值：\n",
    "\n",
    "|是否有正負號|型別|<div style=\"width:120px\">最大值</div>|<div style=\"width:120px\">最小值</div>|\n",
    "|---|---|---|---|\n",
    "|有|Int128, Int64, Int32, Int16, Int8|$2^{位元數-1}-1$|$-2^{位元數-1}$|\n",
    "|無|UInt128, UInt64, UInt32, UInt16, UInt8|$2^{位元數}-1$|$0$|\n",
    "\n",
    "|型別|最小值|最大值|\n",
    "|---|---|---|\n",
    "|`Float64`|-Inf|Inf|\n",
    "|`Float32`|-Inf 或 -Inf32|Inf 或 Inf32|\n",
    "|`Float16`|-Inf 或 -Inf16|Inf 或 Inf16|\n",
    "\n",
    "### 作業：範例程式示範了 Int64 及 Float64 的最小值和最大值，作業請列出並觀察其他整數及浮點數型別的最小值和最大值。"
   ]
  },
  {
   "cell_type": "markdown",
   "metadata": {},
   "source": [
    "呼叫 `typemin()` 及 `typemax()` 函式得到各型別的最小值和最大值。\n",
    "\n",
    "列出 Int128, Int32, Int16, Int8, UInt128, UInt64, UInt32, UInt16, UInt8 整數型別的最小值及最大值"
   ]
  },
  {
   "cell_type": "code",
   "execution_count": 6,
   "metadata": {},
   "outputs": [
    {
     "name": "stdout",
     "output_type": "stream",
     "text": [
      "Int128(min): -170141183460469231731687303715884105728\n",
      "Int128(max): 170141183460469231731687303715884105727\n",
      "\n",
      "Int32(min): -2147483648\n",
      "Int32(max): 2147483647\n",
      "\n",
      "Int16(min): -32768\n",
      "Int16(max): 32767\n",
      "\n",
      "Int8(min): -128\n",
      "Int8(max): 127\n",
      "\n",
      "UInt128(min): 0\n",
      "UInt128(max): 340282366920938463463374607431768211455\n",
      "\n",
      "UInt64(min): 0\n",
      "UInt64(max): 18446744073709551615\n",
      "\n",
      "UInt32(min): 0\n",
      "UInt32(max): 4294967295\n",
      "\n",
      "UInt16(min): 0\n",
      "UInt16(max): 65535\n",
      "\n",
      "UInt8(min): 0\n",
      "UInt8(max): 255\n",
      "\n"
     ]
    }
   ],
   "source": [
    "integer = (Int128, Int32, Int16, Int8, UInt128, UInt64, UInt32, UInt16, UInt8)\n",
    "\n",
    "for i in 1:length(integer)\n",
    "    println(string(integer[i]), \"(min): \", typemin(integer[i]))\n",
    "    println(string(integer[i]), \"(max): \", typemax(integer[i]))\n",
    "    println(\"\")\n",
    "end\n"
   ]
  },
  {
   "cell_type": "markdown",
   "metadata": {},
   "source": [
    "列出 Float32, Float16 浮點數型別的最小和最大值"
   ]
  },
  {
   "cell_type": "code",
   "execution_count": 7,
   "metadata": {},
   "outputs": [
    {
     "name": "stdout",
     "output_type": "stream",
     "text": [
      "Float32(min): -Inf\n",
      "Float32(max): Inf\n"
     ]
    }
   ],
   "source": [
    "#Float32\n",
    "println(\"Float32(min): \", typemin(Float32))\n",
    "println(\"Float32(max): \", typemax(Float32))"
   ]
  },
  {
   "cell_type": "code",
   "execution_count": 8,
   "metadata": {},
   "outputs": [
    {
     "name": "stdout",
     "output_type": "stream",
     "text": [
      "Float16(min): -Inf\n",
      "Float16(max): Inf\n"
     ]
    }
   ],
   "source": [
    "#Float16\n",
    "println(\"Float16(min): \", typemin(Float16))\n",
    "println(\"Float16(max): \", typemax(Float16))"
   ]
  }
 ],
 "metadata": {
  "@webio": {
   "lastCommId": null,
   "lastKernelId": null
  },
  "kernelspec": {
   "display_name": "Julia 1.4.0",
   "language": "julia",
   "name": "julia-1.4"
  },
  "language_info": {
   "file_extension": ".jl",
   "mimetype": "application/julia",
   "name": "julia",
   "version": "1.4.0"
  }
 },
 "nbformat": 4,
 "nbformat_minor": 4
}
